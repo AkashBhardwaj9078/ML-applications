{
  "nbformat": 4,
  "nbformat_minor": 0,
  "metadata": {
    "colab": {
      "provenance": [],
      "authorship_tag": "ABX9TyNdBJuwKAF0SeUQlYaZowyo",
      "include_colab_link": true
    },
    "kernelspec": {
      "name": "python3",
      "display_name": "Python 3"
    },
    "language_info": {
      "name": "python"
    }
  },
  "cells": [
    {
      "cell_type": "markdown",
      "metadata": {
        "id": "view-in-github",
        "colab_type": "text"
      },
      "source": [
        "<a href=\"https://colab.research.google.com/github/AkashBhardwaj9078/ML-applications/blob/main/FruitDataset.ipynb\" target=\"_parent\"><img src=\"https://colab.research.google.com/assets/colab-badge.svg\" alt=\"Open In Colab\"/></a>"
      ]
    },
    {
      "cell_type": "code",
      "execution_count": null,
      "metadata": {
        "id": "Ru4NTXmCVGbH"
      },
      "outputs": [],
      "source": [
        "import pandas as pd\n",
        "import matplotlib.pyplot as plt\n",
        "import seaborn as sns\n"
      ]
    },
    {
      "cell_type": "code",
      "source": [
        "df=pd.read_csv(\"/content/fruits.csv\")"
      ],
      "metadata": {
        "id": "f1pYO336cplU"
      },
      "execution_count": null,
      "outputs": []
    },
    {
      "cell_type": "code",
      "source": [
        "df.info()"
      ],
      "metadata": {
        "colab": {
          "base_uri": "https://localhost:8080/"
        },
        "id": "E-VXrIIxZI6k",
        "outputId": "40775153-f7c0-4171-f83c-873df3eddcd8"
      },
      "execution_count": null,
      "outputs": [
        {
          "output_type": "stream",
          "name": "stdout",
          "text": [
            "<class 'pandas.core.frame.DataFrame'>\n",
            "RangeIndex: 62 entries, 0 to 61\n",
            "Data columns (total 8 columns):\n",
            " #   Column              Non-Null Count  Dtype  \n",
            "---  ------              --------------  -----  \n",
            " 0   Fruit               62 non-null     object \n",
            " 1   Form                62 non-null     object \n",
            " 2   RetailPrice         62 non-null     float64\n",
            " 3   RetailPriceUnit     62 non-null     object \n",
            " 4   Yield               62 non-null     float64\n",
            " 5   CupEquivalentSize   62 non-null     float64\n",
            " 6   CupEquivalentUnit   62 non-null     object \n",
            " 7   CupEquivalentPrice  62 non-null     float64\n",
            "dtypes: float64(4), object(4)\n",
            "memory usage: 4.0+ KB\n"
          ]
        }
      ]
    },
    {
      "cell_type": "code",
      "source": [
        "df.Form.value_counts()"
      ],
      "metadata": {
        "colab": {
          "base_uri": "https://localhost:8080/"
        },
        "id": "tKB56wc8ZOYW",
        "outputId": "bcb1432f-5d8e-4a9d-9dd6-b1d51666a559"
      },
      "execution_count": null,
      "outputs": [
        {
          "output_type": "execute_result",
          "data": {
            "text/plain": [
              "Fresh     24\n",
              "Canned    12\n",
              "Juice     11\n",
              "Dried      9\n",
              "Frozen     6\n",
              "Name: Form, dtype: int64"
            ]
          },
          "metadata": {},
          "execution_count": 32
        }
      ]
    },
    {
      "cell_type": "code",
      "source": [],
      "metadata": {
        "id": "GKEF_vOUcnpd"
      },
      "execution_count": null,
      "outputs": []
    },
    {
      "cell_type": "code",
      "source": [
        "fruits=[i[0] for i in df.Fruit.str.split(\" \")]\n",
        "\n",
        "fruit=[]\n",
        "for i in fruits:\n",
        "  if i[-1]==',':\n",
        "    fruit.append(i[:-1])\n",
        "  else:\n",
        "    fruit.append(i)\n"
      ],
      "metadata": {
        "id": "37De4_YGZan5"
      },
      "execution_count": null,
      "outputs": []
    },
    {
      "cell_type": "code",
      "source": [
        "df['fruit']=fruit"
      ],
      "metadata": {
        "id": "KwDfwNqSbtyQ"
      },
      "execution_count": null,
      "outputs": []
    },
    {
      "cell_type": "code",
      "source": [
        "df"
      ],
      "metadata": {
        "colab": {
          "base_uri": "https://localhost:8080/",
          "height": 530
        },
        "id": "X_c6WpkqjAPv",
        "outputId": "d8fb114d-50f0-4ebe-db89-c289def71210"
      },
      "execution_count": null,
      "outputs": [
        {
          "output_type": "execute_result",
          "data": {
            "text/plain": [
              "                         Fruit    Form  RetailPrice RetailPriceUnit  Yield  \\\n",
              "0                       Apples   Fresh       1.5193       per pound   0.90   \n",
              "1           Apples, applesauce  Canned       1.0660       per pound   1.00   \n",
              "2       Apples, ready-to-drink   Juice       0.7804        per pint   1.00   \n",
              "3   Apples, frozen concentrate   Juice       0.5853        per pint   1.00   \n",
              "4                     Apricots   Fresh       2.9665       per pound   0.93   \n",
              "..                         ...     ...          ...             ...    ...   \n",
              "57                 Raspberries   Fresh       6.6391       per pound   0.96   \n",
              "58                 Raspberries  Frozen       4.1877       per pound   1.00   \n",
              "59                Strawberries   Fresh       2.5800       per pound   0.94   \n",
              "60                Strawberries  Frozen       2.8189       per pound   1.00   \n",
              "61                  Watermelon   Fresh       0.3604       per pound   0.52   \n",
              "\n",
              "    CupEquivalentSize CupEquivalentUnit  CupEquivalentPrice         fruit  \n",
              "0              0.2425            pounds              0.4094        Apples  \n",
              "1              0.5401            pounds              0.5758        Apples  \n",
              "2              8.0000      fluid ounces              0.3902        Apples  \n",
              "3              8.0000      fluid ounces              0.2926        Apples  \n",
              "4              0.3638            pounds              1.1603      Apricots  \n",
              "..                ...               ...                 ...           ...  \n",
              "57             0.3197            pounds              2.2107   Raspberries  \n",
              "58             0.3307            pounds              1.3849   Raspberries  \n",
              "59             0.3197            pounds              0.8774  Strawberries  \n",
              "60             0.3307            pounds              0.9322  Strawberries  \n",
              "61             0.3307            pounds              0.2292    Watermelon  \n",
              "\n",
              "[62 rows x 9 columns]"
            ],
            "text/html": [
              "\n",
              "  <div id=\"df-1a7e0756-b2ad-4e80-bb3e-82520334a8c8\" class=\"colab-df-container\">\n",
              "    <div>\n",
              "<style scoped>\n",
              "    .dataframe tbody tr th:only-of-type {\n",
              "        vertical-align: middle;\n",
              "    }\n",
              "\n",
              "    .dataframe tbody tr th {\n",
              "        vertical-align: top;\n",
              "    }\n",
              "\n",
              "    .dataframe thead th {\n",
              "        text-align: right;\n",
              "    }\n",
              "</style>\n",
              "<table border=\"1\" class=\"dataframe\">\n",
              "  <thead>\n",
              "    <tr style=\"text-align: right;\">\n",
              "      <th></th>\n",
              "      <th>Fruit</th>\n",
              "      <th>Form</th>\n",
              "      <th>RetailPrice</th>\n",
              "      <th>RetailPriceUnit</th>\n",
              "      <th>Yield</th>\n",
              "      <th>CupEquivalentSize</th>\n",
              "      <th>CupEquivalentUnit</th>\n",
              "      <th>CupEquivalentPrice</th>\n",
              "      <th>fruit</th>\n",
              "    </tr>\n",
              "  </thead>\n",
              "  <tbody>\n",
              "    <tr>\n",
              "      <th>0</th>\n",
              "      <td>Apples</td>\n",
              "      <td>Fresh</td>\n",
              "      <td>1.5193</td>\n",
              "      <td>per pound</td>\n",
              "      <td>0.90</td>\n",
              "      <td>0.2425</td>\n",
              "      <td>pounds</td>\n",
              "      <td>0.4094</td>\n",
              "      <td>Apples</td>\n",
              "    </tr>\n",
              "    <tr>\n",
              "      <th>1</th>\n",
              "      <td>Apples, applesauce</td>\n",
              "      <td>Canned</td>\n",
              "      <td>1.0660</td>\n",
              "      <td>per pound</td>\n",
              "      <td>1.00</td>\n",
              "      <td>0.5401</td>\n",
              "      <td>pounds</td>\n",
              "      <td>0.5758</td>\n",
              "      <td>Apples</td>\n",
              "    </tr>\n",
              "    <tr>\n",
              "      <th>2</th>\n",
              "      <td>Apples, ready-to-drink</td>\n",
              "      <td>Juice</td>\n",
              "      <td>0.7804</td>\n",
              "      <td>per pint</td>\n",
              "      <td>1.00</td>\n",
              "      <td>8.0000</td>\n",
              "      <td>fluid ounces</td>\n",
              "      <td>0.3902</td>\n",
              "      <td>Apples</td>\n",
              "    </tr>\n",
              "    <tr>\n",
              "      <th>3</th>\n",
              "      <td>Apples, frozen concentrate</td>\n",
              "      <td>Juice</td>\n",
              "      <td>0.5853</td>\n",
              "      <td>per pint</td>\n",
              "      <td>1.00</td>\n",
              "      <td>8.0000</td>\n",
              "      <td>fluid ounces</td>\n",
              "      <td>0.2926</td>\n",
              "      <td>Apples</td>\n",
              "    </tr>\n",
              "    <tr>\n",
              "      <th>4</th>\n",
              "      <td>Apricots</td>\n",
              "      <td>Fresh</td>\n",
              "      <td>2.9665</td>\n",
              "      <td>per pound</td>\n",
              "      <td>0.93</td>\n",
              "      <td>0.3638</td>\n",
              "      <td>pounds</td>\n",
              "      <td>1.1603</td>\n",
              "      <td>Apricots</td>\n",
              "    </tr>\n",
              "    <tr>\n",
              "      <th>...</th>\n",
              "      <td>...</td>\n",
              "      <td>...</td>\n",
              "      <td>...</td>\n",
              "      <td>...</td>\n",
              "      <td>...</td>\n",
              "      <td>...</td>\n",
              "      <td>...</td>\n",
              "      <td>...</td>\n",
              "      <td>...</td>\n",
              "    </tr>\n",
              "    <tr>\n",
              "      <th>57</th>\n",
              "      <td>Raspberries</td>\n",
              "      <td>Fresh</td>\n",
              "      <td>6.6391</td>\n",
              "      <td>per pound</td>\n",
              "      <td>0.96</td>\n",
              "      <td>0.3197</td>\n",
              "      <td>pounds</td>\n",
              "      <td>2.2107</td>\n",
              "      <td>Raspberries</td>\n",
              "    </tr>\n",
              "    <tr>\n",
              "      <th>58</th>\n",
              "      <td>Raspberries</td>\n",
              "      <td>Frozen</td>\n",
              "      <td>4.1877</td>\n",
              "      <td>per pound</td>\n",
              "      <td>1.00</td>\n",
              "      <td>0.3307</td>\n",
              "      <td>pounds</td>\n",
              "      <td>1.3849</td>\n",
              "      <td>Raspberries</td>\n",
              "    </tr>\n",
              "    <tr>\n",
              "      <th>59</th>\n",
              "      <td>Strawberries</td>\n",
              "      <td>Fresh</td>\n",
              "      <td>2.5800</td>\n",
              "      <td>per pound</td>\n",
              "      <td>0.94</td>\n",
              "      <td>0.3197</td>\n",
              "      <td>pounds</td>\n",
              "      <td>0.8774</td>\n",
              "      <td>Strawberries</td>\n",
              "    </tr>\n",
              "    <tr>\n",
              "      <th>60</th>\n",
              "      <td>Strawberries</td>\n",
              "      <td>Frozen</td>\n",
              "      <td>2.8189</td>\n",
              "      <td>per pound</td>\n",
              "      <td>1.00</td>\n",
              "      <td>0.3307</td>\n",
              "      <td>pounds</td>\n",
              "      <td>0.9322</td>\n",
              "      <td>Strawberries</td>\n",
              "    </tr>\n",
              "    <tr>\n",
              "      <th>61</th>\n",
              "      <td>Watermelon</td>\n",
              "      <td>Fresh</td>\n",
              "      <td>0.3604</td>\n",
              "      <td>per pound</td>\n",
              "      <td>0.52</td>\n",
              "      <td>0.3307</td>\n",
              "      <td>pounds</td>\n",
              "      <td>0.2292</td>\n",
              "      <td>Watermelon</td>\n",
              "    </tr>\n",
              "  </tbody>\n",
              "</table>\n",
              "<p>62 rows × 9 columns</p>\n",
              "</div>\n",
              "    <div class=\"colab-df-buttons\">\n",
              "\n",
              "  <div class=\"colab-df-container\">\n",
              "    <button class=\"colab-df-convert\" onclick=\"convertToInteractive('df-1a7e0756-b2ad-4e80-bb3e-82520334a8c8')\"\n",
              "            title=\"Convert this dataframe to an interactive table.\"\n",
              "            style=\"display:none;\">\n",
              "\n",
              "  <svg xmlns=\"http://www.w3.org/2000/svg\" height=\"24px\" viewBox=\"0 -960 960 960\">\n",
              "    <path d=\"M120-120v-720h720v720H120Zm60-500h600v-160H180v160Zm220 220h160v-160H400v160Zm0 220h160v-160H400v160ZM180-400h160v-160H180v160Zm440 0h160v-160H620v160ZM180-180h160v-160H180v160Zm440 0h160v-160H620v160Z\"/>\n",
              "  </svg>\n",
              "    </button>\n",
              "\n",
              "  <style>\n",
              "    .colab-df-container {\n",
              "      display:flex;\n",
              "      gap: 12px;\n",
              "    }\n",
              "\n",
              "    .colab-df-convert {\n",
              "      background-color: #E8F0FE;\n",
              "      border: none;\n",
              "      border-radius: 50%;\n",
              "      cursor: pointer;\n",
              "      display: none;\n",
              "      fill: #1967D2;\n",
              "      height: 32px;\n",
              "      padding: 0 0 0 0;\n",
              "      width: 32px;\n",
              "    }\n",
              "\n",
              "    .colab-df-convert:hover {\n",
              "      background-color: #E2EBFA;\n",
              "      box-shadow: 0px 1px 2px rgba(60, 64, 67, 0.3), 0px 1px 3px 1px rgba(60, 64, 67, 0.15);\n",
              "      fill: #174EA6;\n",
              "    }\n",
              "\n",
              "    .colab-df-buttons div {\n",
              "      margin-bottom: 4px;\n",
              "    }\n",
              "\n",
              "    [theme=dark] .colab-df-convert {\n",
              "      background-color: #3B4455;\n",
              "      fill: #D2E3FC;\n",
              "    }\n",
              "\n",
              "    [theme=dark] .colab-df-convert:hover {\n",
              "      background-color: #434B5C;\n",
              "      box-shadow: 0px 1px 3px 1px rgba(0, 0, 0, 0.15);\n",
              "      filter: drop-shadow(0px 1px 2px rgba(0, 0, 0, 0.3));\n",
              "      fill: #FFFFFF;\n",
              "    }\n",
              "  </style>\n",
              "\n",
              "    <script>\n",
              "      const buttonEl =\n",
              "        document.querySelector('#df-1a7e0756-b2ad-4e80-bb3e-82520334a8c8 button.colab-df-convert');\n",
              "      buttonEl.style.display =\n",
              "        google.colab.kernel.accessAllowed ? 'block' : 'none';\n",
              "\n",
              "      async function convertToInteractive(key) {\n",
              "        const element = document.querySelector('#df-1a7e0756-b2ad-4e80-bb3e-82520334a8c8');\n",
              "        const dataTable =\n",
              "          await google.colab.kernel.invokeFunction('convertToInteractive',\n",
              "                                                    [key], {});\n",
              "        if (!dataTable) return;\n",
              "\n",
              "        const docLinkHtml = 'Like what you see? Visit the ' +\n",
              "          '<a target=\"_blank\" href=https://colab.research.google.com/notebooks/data_table.ipynb>data table notebook</a>'\n",
              "          + ' to learn more about interactive tables.';\n",
              "        element.innerHTML = '';\n",
              "        dataTable['output_type'] = 'display_data';\n",
              "        await google.colab.output.renderOutput(dataTable, element);\n",
              "        const docLink = document.createElement('div');\n",
              "        docLink.innerHTML = docLinkHtml;\n",
              "        element.appendChild(docLink);\n",
              "      }\n",
              "    </script>\n",
              "  </div>\n",
              "\n",
              "\n",
              "<div id=\"df-3a7aa078-9b81-4755-ba84-b8d15a3dc4cc\">\n",
              "  <button class=\"colab-df-quickchart\" onclick=\"quickchart('df-3a7aa078-9b81-4755-ba84-b8d15a3dc4cc')\"\n",
              "            title=\"Suggest charts\"\n",
              "            style=\"display:none;\">\n",
              "\n",
              "<svg xmlns=\"http://www.w3.org/2000/svg\" height=\"24px\"viewBox=\"0 0 24 24\"\n",
              "     width=\"24px\">\n",
              "    <g>\n",
              "        <path d=\"M19 3H5c-1.1 0-2 .9-2 2v14c0 1.1.9 2 2 2h14c1.1 0 2-.9 2-2V5c0-1.1-.9-2-2-2zM9 17H7v-7h2v7zm4 0h-2V7h2v10zm4 0h-2v-4h2v4z\"/>\n",
              "    </g>\n",
              "</svg>\n",
              "  </button>\n",
              "\n",
              "<style>\n",
              "  .colab-df-quickchart {\n",
              "      --bg-color: #E8F0FE;\n",
              "      --fill-color: #1967D2;\n",
              "      --hover-bg-color: #E2EBFA;\n",
              "      --hover-fill-color: #174EA6;\n",
              "      --disabled-fill-color: #AAA;\n",
              "      --disabled-bg-color: #DDD;\n",
              "  }\n",
              "\n",
              "  [theme=dark] .colab-df-quickchart {\n",
              "      --bg-color: #3B4455;\n",
              "      --fill-color: #D2E3FC;\n",
              "      --hover-bg-color: #434B5C;\n",
              "      --hover-fill-color: #FFFFFF;\n",
              "      --disabled-bg-color: #3B4455;\n",
              "      --disabled-fill-color: #666;\n",
              "  }\n",
              "\n",
              "  .colab-df-quickchart {\n",
              "    background-color: var(--bg-color);\n",
              "    border: none;\n",
              "    border-radius: 50%;\n",
              "    cursor: pointer;\n",
              "    display: none;\n",
              "    fill: var(--fill-color);\n",
              "    height: 32px;\n",
              "    padding: 0;\n",
              "    width: 32px;\n",
              "  }\n",
              "\n",
              "  .colab-df-quickchart:hover {\n",
              "    background-color: var(--hover-bg-color);\n",
              "    box-shadow: 0 1px 2px rgba(60, 64, 67, 0.3), 0 1px 3px 1px rgba(60, 64, 67, 0.15);\n",
              "    fill: var(--button-hover-fill-color);\n",
              "  }\n",
              "\n",
              "  .colab-df-quickchart-complete:disabled,\n",
              "  .colab-df-quickchart-complete:disabled:hover {\n",
              "    background-color: var(--disabled-bg-color);\n",
              "    fill: var(--disabled-fill-color);\n",
              "    box-shadow: none;\n",
              "  }\n",
              "\n",
              "  .colab-df-spinner {\n",
              "    border: 2px solid var(--fill-color);\n",
              "    border-color: transparent;\n",
              "    border-bottom-color: var(--fill-color);\n",
              "    animation:\n",
              "      spin 1s steps(1) infinite;\n",
              "  }\n",
              "\n",
              "  @keyframes spin {\n",
              "    0% {\n",
              "      border-color: transparent;\n",
              "      border-bottom-color: var(--fill-color);\n",
              "      border-left-color: var(--fill-color);\n",
              "    }\n",
              "    20% {\n",
              "      border-color: transparent;\n",
              "      border-left-color: var(--fill-color);\n",
              "      border-top-color: var(--fill-color);\n",
              "    }\n",
              "    30% {\n",
              "      border-color: transparent;\n",
              "      border-left-color: var(--fill-color);\n",
              "      border-top-color: var(--fill-color);\n",
              "      border-right-color: var(--fill-color);\n",
              "    }\n",
              "    40% {\n",
              "      border-color: transparent;\n",
              "      border-right-color: var(--fill-color);\n",
              "      border-top-color: var(--fill-color);\n",
              "    }\n",
              "    60% {\n",
              "      border-color: transparent;\n",
              "      border-right-color: var(--fill-color);\n",
              "    }\n",
              "    80% {\n",
              "      border-color: transparent;\n",
              "      border-right-color: var(--fill-color);\n",
              "      border-bottom-color: var(--fill-color);\n",
              "    }\n",
              "    90% {\n",
              "      border-color: transparent;\n",
              "      border-bottom-color: var(--fill-color);\n",
              "    }\n",
              "  }\n",
              "</style>\n",
              "\n",
              "  <script>\n",
              "    async function quickchart(key) {\n",
              "      const quickchartButtonEl =\n",
              "        document.querySelector('#' + key + ' button');\n",
              "      quickchartButtonEl.disabled = true;  // To prevent multiple clicks.\n",
              "      quickchartButtonEl.classList.add('colab-df-spinner');\n",
              "      try {\n",
              "        const charts = await google.colab.kernel.invokeFunction(\n",
              "            'suggestCharts', [key], {});\n",
              "      } catch (error) {\n",
              "        console.error('Error during call to suggestCharts:', error);\n",
              "      }\n",
              "      quickchartButtonEl.classList.remove('colab-df-spinner');\n",
              "      quickchartButtonEl.classList.add('colab-df-quickchart-complete');\n",
              "    }\n",
              "    (() => {\n",
              "      let quickchartButtonEl =\n",
              "        document.querySelector('#df-3a7aa078-9b81-4755-ba84-b8d15a3dc4cc button');\n",
              "      quickchartButtonEl.style.display =\n",
              "        google.colab.kernel.accessAllowed ? 'block' : 'none';\n",
              "    })();\n",
              "  </script>\n",
              "</div>\n",
              "\n",
              "  <div id=\"id_2474c58b-9972-4ef5-a8dc-6b84f06821fa\">\n",
              "    <style>\n",
              "      .colab-df-generate {\n",
              "        background-color: #E8F0FE;\n",
              "        border: none;\n",
              "        border-radius: 50%;\n",
              "        cursor: pointer;\n",
              "        display: none;\n",
              "        fill: #1967D2;\n",
              "        height: 32px;\n",
              "        padding: 0 0 0 0;\n",
              "        width: 32px;\n",
              "      }\n",
              "\n",
              "      .colab-df-generate:hover {\n",
              "        background-color: #E2EBFA;\n",
              "        box-shadow: 0px 1px 2px rgba(60, 64, 67, 0.3), 0px 1px 3px 1px rgba(60, 64, 67, 0.15);\n",
              "        fill: #174EA6;\n",
              "      }\n",
              "\n",
              "      [theme=dark] .colab-df-generate {\n",
              "        background-color: #3B4455;\n",
              "        fill: #D2E3FC;\n",
              "      }\n",
              "\n",
              "      [theme=dark] .colab-df-generate:hover {\n",
              "        background-color: #434B5C;\n",
              "        box-shadow: 0px 1px 3px 1px rgba(0, 0, 0, 0.15);\n",
              "        filter: drop-shadow(0px 1px 2px rgba(0, 0, 0, 0.3));\n",
              "        fill: #FFFFFF;\n",
              "      }\n",
              "    </style>\n",
              "    <button class=\"colab-df-generate\" onclick=\"generateWithVariable('df')\"\n",
              "            title=\"Generate code using this dataframe.\"\n",
              "            style=\"display:none;\">\n",
              "\n",
              "  <svg xmlns=\"http://www.w3.org/2000/svg\" height=\"24px\"viewBox=\"0 0 24 24\"\n",
              "       width=\"24px\">\n",
              "    <path d=\"M7,19H8.4L18.45,9,17,7.55,7,17.6ZM5,21V16.75L18.45,3.32a2,2,0,0,1,2.83,0l1.4,1.43a1.91,1.91,0,0,1,.58,1.4,1.91,1.91,0,0,1-.58,1.4L9.25,21ZM18.45,9,17,7.55Zm-12,3A5.31,5.31,0,0,0,4.9,8.1,5.31,5.31,0,0,0,1,6.5,5.31,5.31,0,0,0,4.9,4.9,5.31,5.31,0,0,0,6.5,1,5.31,5.31,0,0,0,8.1,4.9,5.31,5.31,0,0,0,12,6.5,5.46,5.46,0,0,0,6.5,12Z\"/>\n",
              "  </svg>\n",
              "    </button>\n",
              "    <script>\n",
              "      (() => {\n",
              "      const buttonEl =\n",
              "        document.querySelector('#id_2474c58b-9972-4ef5-a8dc-6b84f06821fa button.colab-df-generate');\n",
              "      buttonEl.style.display =\n",
              "        google.colab.kernel.accessAllowed ? 'block' : 'none';\n",
              "\n",
              "      buttonEl.onclick = () => {\n",
              "        google.colab.notebook.generateWithVariable('df');\n",
              "      }\n",
              "      })();\n",
              "    </script>\n",
              "  </div>\n",
              "\n",
              "    </div>\n",
              "  </div>\n"
            ]
          },
          "metadata": {},
          "execution_count": 47
        }
      ]
    },
    {
      "cell_type": "code",
      "source": [
        "x=df[['RetailPrice','Yield','CupEquivalentSize','CupEquivalentPrice']]\n",
        "y=df['Form']"
      ],
      "metadata": {
        "id": "J3bfHopMcjhk"
      },
      "execution_count": null,
      "outputs": []
    },
    {
      "cell_type": "code",
      "source": [
        "# input values\n",
        "x\n"
      ],
      "metadata": {
        "colab": {
          "base_uri": "https://localhost:8080/",
          "height": 424
        },
        "id": "e4m1sBd0dSzr",
        "outputId": "4151381d-ee2f-4df7-ee2e-cc18e1ac7013"
      },
      "execution_count": null,
      "outputs": [
        {
          "output_type": "execute_result",
          "data": {
            "text/plain": [
              "    RetailPrice  Yield  CupEquivalentSize  CupEquivalentPrice\n",
              "0        1.5193   0.90             0.2425              0.4094\n",
              "1        1.0660   1.00             0.5401              0.5758\n",
              "2        0.7804   1.00             8.0000              0.3902\n",
              "3        0.5853   1.00             8.0000              0.2926\n",
              "4        2.9665   0.93             0.3638              1.1603\n",
              "..          ...    ...                ...                 ...\n",
              "57       6.6391   0.96             0.3197              2.2107\n",
              "58       4.1877   1.00             0.3307              1.3849\n",
              "59       2.5800   0.94             0.3197              0.8774\n",
              "60       2.8189   1.00             0.3307              0.9322\n",
              "61       0.3604   0.52             0.3307              0.2292\n",
              "\n",
              "[62 rows x 4 columns]"
            ],
            "text/html": [
              "\n",
              "  <div id=\"df-0c66d7dd-a207-4c12-987e-67a97bc02462\" class=\"colab-df-container\">\n",
              "    <div>\n",
              "<style scoped>\n",
              "    .dataframe tbody tr th:only-of-type {\n",
              "        vertical-align: middle;\n",
              "    }\n",
              "\n",
              "    .dataframe tbody tr th {\n",
              "        vertical-align: top;\n",
              "    }\n",
              "\n",
              "    .dataframe thead th {\n",
              "        text-align: right;\n",
              "    }\n",
              "</style>\n",
              "<table border=\"1\" class=\"dataframe\">\n",
              "  <thead>\n",
              "    <tr style=\"text-align: right;\">\n",
              "      <th></th>\n",
              "      <th>RetailPrice</th>\n",
              "      <th>Yield</th>\n",
              "      <th>CupEquivalentSize</th>\n",
              "      <th>CupEquivalentPrice</th>\n",
              "    </tr>\n",
              "  </thead>\n",
              "  <tbody>\n",
              "    <tr>\n",
              "      <th>0</th>\n",
              "      <td>1.5193</td>\n",
              "      <td>0.90</td>\n",
              "      <td>0.2425</td>\n",
              "      <td>0.4094</td>\n",
              "    </tr>\n",
              "    <tr>\n",
              "      <th>1</th>\n",
              "      <td>1.0660</td>\n",
              "      <td>1.00</td>\n",
              "      <td>0.5401</td>\n",
              "      <td>0.5758</td>\n",
              "    </tr>\n",
              "    <tr>\n",
              "      <th>2</th>\n",
              "      <td>0.7804</td>\n",
              "      <td>1.00</td>\n",
              "      <td>8.0000</td>\n",
              "      <td>0.3902</td>\n",
              "    </tr>\n",
              "    <tr>\n",
              "      <th>3</th>\n",
              "      <td>0.5853</td>\n",
              "      <td>1.00</td>\n",
              "      <td>8.0000</td>\n",
              "      <td>0.2926</td>\n",
              "    </tr>\n",
              "    <tr>\n",
              "      <th>4</th>\n",
              "      <td>2.9665</td>\n",
              "      <td>0.93</td>\n",
              "      <td>0.3638</td>\n",
              "      <td>1.1603</td>\n",
              "    </tr>\n",
              "    <tr>\n",
              "      <th>...</th>\n",
              "      <td>...</td>\n",
              "      <td>...</td>\n",
              "      <td>...</td>\n",
              "      <td>...</td>\n",
              "    </tr>\n",
              "    <tr>\n",
              "      <th>57</th>\n",
              "      <td>6.6391</td>\n",
              "      <td>0.96</td>\n",
              "      <td>0.3197</td>\n",
              "      <td>2.2107</td>\n",
              "    </tr>\n",
              "    <tr>\n",
              "      <th>58</th>\n",
              "      <td>4.1877</td>\n",
              "      <td>1.00</td>\n",
              "      <td>0.3307</td>\n",
              "      <td>1.3849</td>\n",
              "    </tr>\n",
              "    <tr>\n",
              "      <th>59</th>\n",
              "      <td>2.5800</td>\n",
              "      <td>0.94</td>\n",
              "      <td>0.3197</td>\n",
              "      <td>0.8774</td>\n",
              "    </tr>\n",
              "    <tr>\n",
              "      <th>60</th>\n",
              "      <td>2.8189</td>\n",
              "      <td>1.00</td>\n",
              "      <td>0.3307</td>\n",
              "      <td>0.9322</td>\n",
              "    </tr>\n",
              "    <tr>\n",
              "      <th>61</th>\n",
              "      <td>0.3604</td>\n",
              "      <td>0.52</td>\n",
              "      <td>0.3307</td>\n",
              "      <td>0.2292</td>\n",
              "    </tr>\n",
              "  </tbody>\n",
              "</table>\n",
              "<p>62 rows × 4 columns</p>\n",
              "</div>\n",
              "    <div class=\"colab-df-buttons\">\n",
              "\n",
              "  <div class=\"colab-df-container\">\n",
              "    <button class=\"colab-df-convert\" onclick=\"convertToInteractive('df-0c66d7dd-a207-4c12-987e-67a97bc02462')\"\n",
              "            title=\"Convert this dataframe to an interactive table.\"\n",
              "            style=\"display:none;\">\n",
              "\n",
              "  <svg xmlns=\"http://www.w3.org/2000/svg\" height=\"24px\" viewBox=\"0 -960 960 960\">\n",
              "    <path d=\"M120-120v-720h720v720H120Zm60-500h600v-160H180v160Zm220 220h160v-160H400v160Zm0 220h160v-160H400v160ZM180-400h160v-160H180v160Zm440 0h160v-160H620v160ZM180-180h160v-160H180v160Zm440 0h160v-160H620v160Z\"/>\n",
              "  </svg>\n",
              "    </button>\n",
              "\n",
              "  <style>\n",
              "    .colab-df-container {\n",
              "      display:flex;\n",
              "      gap: 12px;\n",
              "    }\n",
              "\n",
              "    .colab-df-convert {\n",
              "      background-color: #E8F0FE;\n",
              "      border: none;\n",
              "      border-radius: 50%;\n",
              "      cursor: pointer;\n",
              "      display: none;\n",
              "      fill: #1967D2;\n",
              "      height: 32px;\n",
              "      padding: 0 0 0 0;\n",
              "      width: 32px;\n",
              "    }\n",
              "\n",
              "    .colab-df-convert:hover {\n",
              "      background-color: #E2EBFA;\n",
              "      box-shadow: 0px 1px 2px rgba(60, 64, 67, 0.3), 0px 1px 3px 1px rgba(60, 64, 67, 0.15);\n",
              "      fill: #174EA6;\n",
              "    }\n",
              "\n",
              "    .colab-df-buttons div {\n",
              "      margin-bottom: 4px;\n",
              "    }\n",
              "\n",
              "    [theme=dark] .colab-df-convert {\n",
              "      background-color: #3B4455;\n",
              "      fill: #D2E3FC;\n",
              "    }\n",
              "\n",
              "    [theme=dark] .colab-df-convert:hover {\n",
              "      background-color: #434B5C;\n",
              "      box-shadow: 0px 1px 3px 1px rgba(0, 0, 0, 0.15);\n",
              "      filter: drop-shadow(0px 1px 2px rgba(0, 0, 0, 0.3));\n",
              "      fill: #FFFFFF;\n",
              "    }\n",
              "  </style>\n",
              "\n",
              "    <script>\n",
              "      const buttonEl =\n",
              "        document.querySelector('#df-0c66d7dd-a207-4c12-987e-67a97bc02462 button.colab-df-convert');\n",
              "      buttonEl.style.display =\n",
              "        google.colab.kernel.accessAllowed ? 'block' : 'none';\n",
              "\n",
              "      async function convertToInteractive(key) {\n",
              "        const element = document.querySelector('#df-0c66d7dd-a207-4c12-987e-67a97bc02462');\n",
              "        const dataTable =\n",
              "          await google.colab.kernel.invokeFunction('convertToInteractive',\n",
              "                                                    [key], {});\n",
              "        if (!dataTable) return;\n",
              "\n",
              "        const docLinkHtml = 'Like what you see? Visit the ' +\n",
              "          '<a target=\"_blank\" href=https://colab.research.google.com/notebooks/data_table.ipynb>data table notebook</a>'\n",
              "          + ' to learn more about interactive tables.';\n",
              "        element.innerHTML = '';\n",
              "        dataTable['output_type'] = 'display_data';\n",
              "        await google.colab.output.renderOutput(dataTable, element);\n",
              "        const docLink = document.createElement('div');\n",
              "        docLink.innerHTML = docLinkHtml;\n",
              "        element.appendChild(docLink);\n",
              "      }\n",
              "    </script>\n",
              "  </div>\n",
              "\n",
              "\n",
              "<div id=\"df-49ea0465-677f-4a44-b175-3602359ab140\">\n",
              "  <button class=\"colab-df-quickchart\" onclick=\"quickchart('df-49ea0465-677f-4a44-b175-3602359ab140')\"\n",
              "            title=\"Suggest charts\"\n",
              "            style=\"display:none;\">\n",
              "\n",
              "<svg xmlns=\"http://www.w3.org/2000/svg\" height=\"24px\"viewBox=\"0 0 24 24\"\n",
              "     width=\"24px\">\n",
              "    <g>\n",
              "        <path d=\"M19 3H5c-1.1 0-2 .9-2 2v14c0 1.1.9 2 2 2h14c1.1 0 2-.9 2-2V5c0-1.1-.9-2-2-2zM9 17H7v-7h2v7zm4 0h-2V7h2v10zm4 0h-2v-4h2v4z\"/>\n",
              "    </g>\n",
              "</svg>\n",
              "  </button>\n",
              "\n",
              "<style>\n",
              "  .colab-df-quickchart {\n",
              "      --bg-color: #E8F0FE;\n",
              "      --fill-color: #1967D2;\n",
              "      --hover-bg-color: #E2EBFA;\n",
              "      --hover-fill-color: #174EA6;\n",
              "      --disabled-fill-color: #AAA;\n",
              "      --disabled-bg-color: #DDD;\n",
              "  }\n",
              "\n",
              "  [theme=dark] .colab-df-quickchart {\n",
              "      --bg-color: #3B4455;\n",
              "      --fill-color: #D2E3FC;\n",
              "      --hover-bg-color: #434B5C;\n",
              "      --hover-fill-color: #FFFFFF;\n",
              "      --disabled-bg-color: #3B4455;\n",
              "      --disabled-fill-color: #666;\n",
              "  }\n",
              "\n",
              "  .colab-df-quickchart {\n",
              "    background-color: var(--bg-color);\n",
              "    border: none;\n",
              "    border-radius: 50%;\n",
              "    cursor: pointer;\n",
              "    display: none;\n",
              "    fill: var(--fill-color);\n",
              "    height: 32px;\n",
              "    padding: 0;\n",
              "    width: 32px;\n",
              "  }\n",
              "\n",
              "  .colab-df-quickchart:hover {\n",
              "    background-color: var(--hover-bg-color);\n",
              "    box-shadow: 0 1px 2px rgba(60, 64, 67, 0.3), 0 1px 3px 1px rgba(60, 64, 67, 0.15);\n",
              "    fill: var(--button-hover-fill-color);\n",
              "  }\n",
              "\n",
              "  .colab-df-quickchart-complete:disabled,\n",
              "  .colab-df-quickchart-complete:disabled:hover {\n",
              "    background-color: var(--disabled-bg-color);\n",
              "    fill: var(--disabled-fill-color);\n",
              "    box-shadow: none;\n",
              "  }\n",
              "\n",
              "  .colab-df-spinner {\n",
              "    border: 2px solid var(--fill-color);\n",
              "    border-color: transparent;\n",
              "    border-bottom-color: var(--fill-color);\n",
              "    animation:\n",
              "      spin 1s steps(1) infinite;\n",
              "  }\n",
              "\n",
              "  @keyframes spin {\n",
              "    0% {\n",
              "      border-color: transparent;\n",
              "      border-bottom-color: var(--fill-color);\n",
              "      border-left-color: var(--fill-color);\n",
              "    }\n",
              "    20% {\n",
              "      border-color: transparent;\n",
              "      border-left-color: var(--fill-color);\n",
              "      border-top-color: var(--fill-color);\n",
              "    }\n",
              "    30% {\n",
              "      border-color: transparent;\n",
              "      border-left-color: var(--fill-color);\n",
              "      border-top-color: var(--fill-color);\n",
              "      border-right-color: var(--fill-color);\n",
              "    }\n",
              "    40% {\n",
              "      border-color: transparent;\n",
              "      border-right-color: var(--fill-color);\n",
              "      border-top-color: var(--fill-color);\n",
              "    }\n",
              "    60% {\n",
              "      border-color: transparent;\n",
              "      border-right-color: var(--fill-color);\n",
              "    }\n",
              "    80% {\n",
              "      border-color: transparent;\n",
              "      border-right-color: var(--fill-color);\n",
              "      border-bottom-color: var(--fill-color);\n",
              "    }\n",
              "    90% {\n",
              "      border-color: transparent;\n",
              "      border-bottom-color: var(--fill-color);\n",
              "    }\n",
              "  }\n",
              "</style>\n",
              "\n",
              "  <script>\n",
              "    async function quickchart(key) {\n",
              "      const quickchartButtonEl =\n",
              "        document.querySelector('#' + key + ' button');\n",
              "      quickchartButtonEl.disabled = true;  // To prevent multiple clicks.\n",
              "      quickchartButtonEl.classList.add('colab-df-spinner');\n",
              "      try {\n",
              "        const charts = await google.colab.kernel.invokeFunction(\n",
              "            'suggestCharts', [key], {});\n",
              "      } catch (error) {\n",
              "        console.error('Error during call to suggestCharts:', error);\n",
              "      }\n",
              "      quickchartButtonEl.classList.remove('colab-df-spinner');\n",
              "      quickchartButtonEl.classList.add('colab-df-quickchart-complete');\n",
              "    }\n",
              "    (() => {\n",
              "      let quickchartButtonEl =\n",
              "        document.querySelector('#df-49ea0465-677f-4a44-b175-3602359ab140 button');\n",
              "      quickchartButtonEl.style.display =\n",
              "        google.colab.kernel.accessAllowed ? 'block' : 'none';\n",
              "    })();\n",
              "  </script>\n",
              "</div>\n",
              "\n",
              "  <div id=\"id_b35daed9-c074-4907-82b4-2d7b7e2e19b0\">\n",
              "    <style>\n",
              "      .colab-df-generate {\n",
              "        background-color: #E8F0FE;\n",
              "        border: none;\n",
              "        border-radius: 50%;\n",
              "        cursor: pointer;\n",
              "        display: none;\n",
              "        fill: #1967D2;\n",
              "        height: 32px;\n",
              "        padding: 0 0 0 0;\n",
              "        width: 32px;\n",
              "      }\n",
              "\n",
              "      .colab-df-generate:hover {\n",
              "        background-color: #E2EBFA;\n",
              "        box-shadow: 0px 1px 2px rgba(60, 64, 67, 0.3), 0px 1px 3px 1px rgba(60, 64, 67, 0.15);\n",
              "        fill: #174EA6;\n",
              "      }\n",
              "\n",
              "      [theme=dark] .colab-df-generate {\n",
              "        background-color: #3B4455;\n",
              "        fill: #D2E3FC;\n",
              "      }\n",
              "\n",
              "      [theme=dark] .colab-df-generate:hover {\n",
              "        background-color: #434B5C;\n",
              "        box-shadow: 0px 1px 3px 1px rgba(0, 0, 0, 0.15);\n",
              "        filter: drop-shadow(0px 1px 2px rgba(0, 0, 0, 0.3));\n",
              "        fill: #FFFFFF;\n",
              "      }\n",
              "    </style>\n",
              "    <button class=\"colab-df-generate\" onclick=\"generateWithVariable('x')\"\n",
              "            title=\"Generate code using this dataframe.\"\n",
              "            style=\"display:none;\">\n",
              "\n",
              "  <svg xmlns=\"http://www.w3.org/2000/svg\" height=\"24px\"viewBox=\"0 0 24 24\"\n",
              "       width=\"24px\">\n",
              "    <path d=\"M7,19H8.4L18.45,9,17,7.55,7,17.6ZM5,21V16.75L18.45,3.32a2,2,0,0,1,2.83,0l1.4,1.43a1.91,1.91,0,0,1,.58,1.4,1.91,1.91,0,0,1-.58,1.4L9.25,21ZM18.45,9,17,7.55Zm-12,3A5.31,5.31,0,0,0,4.9,8.1,5.31,5.31,0,0,0,1,6.5,5.31,5.31,0,0,0,4.9,4.9,5.31,5.31,0,0,0,6.5,1,5.31,5.31,0,0,0,8.1,4.9,5.31,5.31,0,0,0,12,6.5,5.46,5.46,0,0,0,6.5,12Z\"/>\n",
              "  </svg>\n",
              "    </button>\n",
              "    <script>\n",
              "      (() => {\n",
              "      const buttonEl =\n",
              "        document.querySelector('#id_b35daed9-c074-4907-82b4-2d7b7e2e19b0 button.colab-df-generate');\n",
              "      buttonEl.style.display =\n",
              "        google.colab.kernel.accessAllowed ? 'block' : 'none';\n",
              "\n",
              "      buttonEl.onclick = () => {\n",
              "        google.colab.notebook.generateWithVariable('x');\n",
              "      }\n",
              "      })();\n",
              "    </script>\n",
              "  </div>\n",
              "\n",
              "    </div>\n",
              "  </div>\n"
            ]
          },
          "metadata": {},
          "execution_count": 40
        }
      ]
    },
    {
      "cell_type": "code",
      "source": [
        "# classified form of fruits\n",
        "y"
      ],
      "metadata": {
        "colab": {
          "base_uri": "https://localhost:8080/"
        },
        "id": "9KDW2pP5dfMX",
        "outputId": "6adbd0a9-e014-4d07-cdad-440d5ee03a64"
      },
      "execution_count": null,
      "outputs": [
        {
          "output_type": "execute_result",
          "data": {
            "text/plain": [
              "0      Fresh\n",
              "1     Canned\n",
              "2      Juice\n",
              "3      Juice\n",
              "4      Fresh\n",
              "       ...  \n",
              "57     Fresh\n",
              "58    Frozen\n",
              "59     Fresh\n",
              "60    Frozen\n",
              "61     Fresh\n",
              "Name: Form, Length: 62, dtype: object"
            ]
          },
          "metadata": {},
          "execution_count": 41
        }
      ]
    },
    {
      "cell_type": "code",
      "source": [
        "# split the data into test and train dataset\n",
        "from sklearn.model_selection import train_test_split,cross_val_score,KFold\n",
        "\n",
        "xtr,xts,ytr,yts=train_test_split(x,y,random_state=20,test_size=0.33)\n"
      ],
      "metadata": {
        "id": "pTzn1wDbdcok"
      },
      "execution_count": null,
      "outputs": []
    },
    {
      "cell_type": "code",
      "source": [
        "# importing  estimators\n",
        "from sklearn.linear_model import LogisticRegression\n",
        "from sklearn.tree import DecisionTreeClassifier ,plot_tree\n",
        "from sklearn.ensemble import RandomForestClassifier\n"
      ],
      "metadata": {
        "id": "FpPbdxgle0uQ"
      },
      "execution_count": null,
      "outputs": []
    },
    {
      "cell_type": "code",
      "source": [
        "# importing classification_report ,confusion_matrix and accuracy_score\n",
        "from sklearn.metrics import classification_report,confusion_matrix,accuracy_score"
      ],
      "metadata": {
        "id": "ONfKUcQAgFwD"
      },
      "execution_count": null,
      "outputs": []
    },
    {
      "cell_type": "code",
      "source": [
        "lr=LogisticRegression()\n",
        "# fitting the model\n",
        "lr.fit(xtr,ytr)\n",
        "# predicting the output\n",
        "pred=lr.predict(xts)\n",
        "pred\n"
      ],
      "metadata": {
        "colab": {
          "base_uri": "https://localhost:8080/"
        },
        "id": "9u0ARFhcf9io",
        "outputId": "b5c45f6c-b30b-4406-8568-31ea49392d2b"
      },
      "execution_count": null,
      "outputs": [
        {
          "output_type": "execute_result",
          "data": {
            "text/plain": [
              "array(['Fresh', 'Juice', 'Fresh', 'Fresh', 'Fresh', 'Fresh', 'Fresh',\n",
              "       'Fresh', 'Juice', 'Fresh', 'Fresh', 'Juice', 'Canned', 'Fresh',\n",
              "       'Fresh', 'Fresh', 'Fresh', 'Fresh', 'Dried', 'Fresh', 'Fresh'],\n",
              "      dtype=object)"
            ]
          },
          "metadata": {},
          "execution_count": 45
        }
      ]
    },
    {
      "cell_type": "code",
      "source": [
        "# accurcy of LogisticRegression\n",
        "print(\"accuracy_score :\",accuracy_score(pred,yts))\n",
        "print(\"classification Report \\n\",classification_report(pred,yts))\n",
        "print(\"confusion matrix :\\n\",confusion_matrix(pred,yts))"
      ],
      "metadata": {
        "colab": {
          "base_uri": "https://localhost:8080/"
        },
        "id": "txF25VxRhXXO",
        "outputId": "612f4e68-8046-4b0f-bdd9-bbf389627205"
      },
      "execution_count": null,
      "outputs": [
        {
          "output_type": "stream",
          "name": "stdout",
          "text": [
            "accuracy_score : 0.6666666666666666\n",
            "classification Report \n",
            "               precision    recall  f1-score   support\n",
            "\n",
            "      Canned       0.00      0.00      0.00         1\n",
            "       Dried       1.00      1.00      1.00         1\n",
            "       Fresh       0.91      0.62      0.74        16\n",
            "      Frozen       0.00      0.00      0.00         0\n",
            "       Juice       1.00      1.00      1.00         3\n",
            "\n",
            "    accuracy                           0.67        21\n",
            "   macro avg       0.58      0.53      0.55        21\n",
            "weighted avg       0.88      0.67      0.75        21\n",
            "\n",
            "confusion matrix :\n",
            " [[ 0  0  1  0  0]\n",
            " [ 0  1  0  0  0]\n",
            " [ 5  0 10  1  0]\n",
            " [ 0  0  0  0  0]\n",
            " [ 0  0  0  0  3]]\n"
          ]
        },
        {
          "output_type": "stream",
          "name": "stderr",
          "text": [
            "/usr/local/lib/python3.10/dist-packages/sklearn/metrics/_classification.py:1344: UndefinedMetricWarning: Recall and F-score are ill-defined and being set to 0.0 in labels with no true samples. Use `zero_division` parameter to control this behavior.\n",
            "  _warn_prf(average, modifier, msg_start, len(result))\n",
            "/usr/local/lib/python3.10/dist-packages/sklearn/metrics/_classification.py:1344: UndefinedMetricWarning: Recall and F-score are ill-defined and being set to 0.0 in labels with no true samples. Use `zero_division` parameter to control this behavior.\n",
            "  _warn_prf(average, modifier, msg_start, len(result))\n",
            "/usr/local/lib/python3.10/dist-packages/sklearn/metrics/_classification.py:1344: UndefinedMetricWarning: Recall and F-score are ill-defined and being set to 0.0 in labels with no true samples. Use `zero_division` parameter to control this behavior.\n",
            "  _warn_prf(average, modifier, msg_start, len(result))\n"
          ]
        }
      ]
    },
    {
      "cell_type": "code",
      "source": [
        "# cross_validation_score\n",
        "scores=cross_val_score(lr,xtr,ytr,cv=KFold(5))\n",
        "print(\"the cross_validation scores:\\n\",scores)\n",
        "print(\"the average score \\n\",(scores.mean()))\n"
      ],
      "metadata": {
        "colab": {
          "base_uri": "https://localhost:8080/"
        },
        "id": "-yGREaPdkgkD",
        "outputId": "e41cd554-3aab-4451-a739-06c9ef1f6978"
      },
      "execution_count": null,
      "outputs": [
        {
          "output_type": "stream",
          "name": "stdout",
          "text": [
            "the cross_validation scores:\n",
            " [0.66666667 0.625      0.875      0.5        0.625     ]\n",
            "the average score \n",
            " 0.6583333333333333\n"
          ]
        }
      ]
    },
    {
      "cell_type": "code",
      "source": [],
      "metadata": {
        "id": "xhSxkDGrkWzu"
      },
      "execution_count": null,
      "outputs": []
    },
    {
      "cell_type": "code",
      "source": [
        "# using decisiontreeClassifier\n",
        "dt=DecisionTreeClassifier()\n",
        "# fiiting and predicting the values\n",
        "dt.fit(xtr,ytr)\n",
        "pred=dt.predict(xts)\n",
        "pred\n",
        "\n"
      ],
      "metadata": {
        "colab": {
          "base_uri": "https://localhost:8080/"
        },
        "id": "F1zKylzQj2I6",
        "outputId": "83848aa5-e1de-449c-e657-6dfd5b012470"
      },
      "execution_count": null,
      "outputs": [
        {
          "output_type": "execute_result",
          "data": {
            "text/plain": [
              "array(['Fresh', 'Juice', 'Canned', 'Fresh', 'Canned', 'Fresh', 'Fresh',\n",
              "       'Canned', 'Juice', 'Canned', 'Fresh', 'Juice', 'Canned', 'Fresh',\n",
              "       'Fresh', 'Canned', 'Frozen', 'Fresh', 'Dried', 'Canned', 'Fresh'],\n",
              "      dtype=object)"
            ]
          },
          "metadata": {},
          "execution_count": 61
        }
      ]
    },
    {
      "cell_type": "code",
      "source": [
        "# accurcy of DecisionTreeClassifier\n",
        "print(\"accuracy_score :\",accuracy_score(pred,yts))\n",
        "print(\"classification Report \\n\",classification_report(pred,yts))\n",
        "print(\"confusion matrix :\\n\",confusion_matrix(pred,yts))"
      ],
      "metadata": {
        "colab": {
          "base_uri": "https://localhost:8080/"
        },
        "id": "dRWNJ4EGl972",
        "outputId": "1a3dec96-4447-432b-f27f-55198ffe0c43"
      },
      "execution_count": null,
      "outputs": [
        {
          "output_type": "stream",
          "name": "stdout",
          "text": [
            "accuracy_score : 0.9047619047619048\n",
            "classification Report \n",
            "               precision    recall  f1-score   support\n",
            "\n",
            "      Canned       1.00      0.71      0.83         7\n",
            "       Dried       1.00      1.00      1.00         1\n",
            "       Fresh       0.82      1.00      0.90         9\n",
            "      Frozen       1.00      1.00      1.00         1\n",
            "       Juice       1.00      1.00      1.00         3\n",
            "\n",
            "    accuracy                           0.90        21\n",
            "   macro avg       0.96      0.94      0.95        21\n",
            "weighted avg       0.92      0.90      0.90        21\n",
            "\n",
            "confusion matrix :\n",
            " [[5 0 2 0 0]\n",
            " [0 1 0 0 0]\n",
            " [0 0 9 0 0]\n",
            " [0 0 0 1 0]\n",
            " [0 0 0 0 3]]\n"
          ]
        }
      ]
    },
    {
      "cell_type": "code",
      "source": [
        "plot_tree(dt)"
      ],
      "metadata": {
        "colab": {
          "base_uri": "https://localhost:8080/",
          "height": 562
        },
        "id": "S1wlYAQtnwSb",
        "outputId": "2ac6e2f3-be43-4681-cae5-e405d0d62773"
      },
      "execution_count": null,
      "outputs": [
        {
          "output_type": "execute_result",
          "data": {
            "text/plain": [
              "[Text(0.5, 0.875, 'x[2] <= 0.424\\ngini = 0.779\\nsamples = 41\\nvalue = [7, 8, 13, 5, 8]'),\n",
              " Text(0.25, 0.625, 'x[2] <= 0.215\\ngini = 0.618\\nsamples = 26\\nvalue = [0, 8, 13, 5, 0]'),\n",
              " Text(0.125, 0.375, 'gini = 0.0\\nsamples = 8\\nvalue = [0, 8, 0, 0, 0]'),\n",
              " Text(0.375, 0.375, 'x[1] <= 0.98\\ngini = 0.401\\nsamples = 18\\nvalue = [0, 0, 13, 5, 0]'),\n",
              " Text(0.25, 0.125, 'gini = 0.0\\nsamples = 13\\nvalue = [0, 0, 13, 0, 0]'),\n",
              " Text(0.5, 0.125, 'gini = 0.0\\nsamples = 5\\nvalue = [0, 0, 0, 5, 0]'),\n",
              " Text(0.75, 0.625, 'x[2] <= 4.27\\ngini = 0.498\\nsamples = 15\\nvalue = [7, 0, 0, 0, 8]'),\n",
              " Text(0.625, 0.375, 'gini = 0.0\\nsamples = 7\\nvalue = [7, 0, 0, 0, 0]'),\n",
              " Text(0.875, 0.375, 'gini = 0.0\\nsamples = 8\\nvalue = [0, 0, 0, 0, 8]')]"
            ]
          },
          "metadata": {},
          "execution_count": 66
        },
        {
          "output_type": "display_data",
          "data": {
            "text/plain": [
              "<Figure size 640x480 with 1 Axes>"
            ],
            "image/png": "[encoded data removed]"
          },
          "metadata": {}
        }
      ]
    },
    {
      "cell_type": "code",
      "source": [
        "# cross_validation_score of decison_tree_classifier\n",
        "scores=cross_val_score(dt,xtr,ytr,cv=KFold(5))\n",
        "print(\"the cross_validation scores:\\n\",scores)\n",
        "print(\"the average score \\n\",(scores.mean()))"
      ],
      "metadata": {
        "colab": {
          "base_uri": "https://localhost:8080/"
        },
        "id": "F38FZGdamkss",
        "outputId": "f934ede8-46da-45e3-b97c-d99f780f43ae"
      },
      "execution_count": null,
      "outputs": [
        {
          "output_type": "stream",
          "name": "stdout",
          "text": [
            "the cross_validation scores:\n",
            " [0.88888889 1.         1.         0.875      0.75      ]\n",
            "the average score \n",
            " 0.9027777777777779\n"
          ]
        }
      ]
    },
    {
      "cell_type": "code",
      "source": [
        "# targeting the CupEquivalentUnit\n",
        "y=df['CupEquivalentUnit']\n",
        "x=df.select_dtypes(\"float64\")\n",
        "xtr,xts,ytr,yts=train_test_split(x,y,random_state=42)\n"
      ],
      "metadata": {
        "id": "UEh8tLo1m1g5"
      },
      "execution_count": null,
      "outputs": []
    },
    {
      "cell_type": "code",
      "source": [],
      "metadata": {
        "id": "LzkZMRIvoOBp"
      },
      "execution_count": null,
      "outputs": []
    },
    {
      "cell_type": "code",
      "source": [
        "\n",
        "dt=DecisionTreeClassifier()\n",
        "dt.fit(xtr,ytr)\n",
        "pred=dt.predict(xts)\n",
        "pred\n"
      ],
      "metadata": {
        "colab": {
          "base_uri": "https://localhost:8080/"
        },
        "id": "g_9K9_3Onh1o",
        "outputId": "f6df34d4-5d4c-49f5-add4-75a646342b1c"
      },
      "execution_count": null,
      "outputs": [
        {
          "output_type": "execute_result",
          "data": {
            "text/plain": [
              "array(['fluid ounces', 'fluid ounces', 'pounds', 'pounds', 'pounds',\n",
              "       'pounds', 'pounds', 'pounds', 'pounds', 'pounds', 'pounds',\n",
              "       'pounds', 'pounds', 'pounds', 'pounds', 'pounds'], dtype=object)"
            ]
          },
          "metadata": {},
          "execution_count": 72
        }
      ]
    },
    {
      "cell_type": "code",
      "source": [
        "# accuarcy score of DecisiontreeClassifier while targetting the cupequivalent unit\n",
        "print(\"accuracy_score :\",accuracy_score(pred,yts))\n",
        "print(\"classification Report \\n\",classification_report(pred,yts))\n",
        "print(\"confusion matrix :\\n\",confusion_matrix(pred,yts))\n",
        "# cross_validation_score of decison_tree_classifier\n",
        "scores=cross_val_score(dt,xtr,ytr,cv=KFold(5))\n",
        "print(\"the cross_validation scores:\\n\",scores)\n",
        "print(\"the average score \\n\",(scores.mean()))\n"
      ],
      "metadata": {
        "colab": {
          "base_uri": "https://localhost:8080/"
        },
        "id": "JyTriBSXo7oK",
        "outputId": "23e41ace-d814-40bd-b5c9-4e58e0822e0b"
      },
      "execution_count": null,
      "outputs": [
        {
          "output_type": "stream",
          "name": "stdout",
          "text": [
            "accuracy_score : 1.0\n",
            "classification Report \n",
            "               precision    recall  f1-score   support\n",
            "\n",
            "fluid ounces       1.00      1.00      1.00         2\n",
            "      pounds       1.00      1.00      1.00        14\n",
            "\n",
            "    accuracy                           1.00        16\n",
            "   macro avg       1.00      1.00      1.00        16\n",
            "weighted avg       1.00      1.00      1.00        16\n",
            "\n",
            "confusion matrix :\n",
            " [[ 2  0]\n",
            " [ 0 14]]\n",
            "the cross_validation scores:\n",
            " [1. 1. 1. 1. 1.]\n",
            "the average score \n",
            " 1.0\n"
          ]
        }
      ]
    },
    {
      "cell_type": "code",
      "source": [
        "plot_tree(dt)"
      ],
      "metadata": {
        "colab": {
          "base_uri": "https://localhost:8080/",
          "height": 458
        },
        "id": "BIBMsRPLpoay",
        "outputId": "97f8de1b-9e72-490b-afe7-07ca547b5313"
      },
      "execution_count": null,
      "outputs": [
        {
          "output_type": "execute_result",
          "data": {
            "text/plain": [
              "[Text(0.5, 0.75, 'x[2] <= 4.27\\ngini = 0.315\\nsamples = 46\\nvalue = [9, 37]'),\n",
              " Text(0.25, 0.25, 'gini = 0.0\\nsamples = 37\\nvalue = [0, 37]'),\n",
              " Text(0.75, 0.25, 'gini = 0.0\\nsamples = 9\\nvalue = [9, 0]')]"
            ]
          },
          "metadata": {},
          "execution_count": 74
        },
        {
          "output_type": "display_data",
          "data": {
            "text/plain": [
              "<Figure size 640x480 with 1 Axes>"
            ],
            "image/png": "[encoded data removed]"
          },
          "metadata": {}
        }
      ]
    },
    {
      "cell_type": "code",
      "source": [
        "df.fruit.value_counts()"
      ],
      "metadata": {
        "colab": {
          "base_uri": "https://localhost:8080/"
        },
        "id": "y0Jo8GFhp6to",
        "outputId": "485e0292-f4b4-4bef-e968-45f07debbe51"
      },
      "execution_count": null,
      "outputs": [
        {
          "output_type": "execute_result",
          "data": {
            "text/plain": [
              "Pineapple       6\n",
              "Apples          4\n",
              "Apricots        4\n",
              "Peaches         4\n",
              "Grapes          4\n",
              "Plum            3\n",
              "Pears           3\n",
              "Oranges         3\n",
              "Blueberries     2\n",
              "Blackberries    2\n",
              "Strawberries    2\n",
              "Raspberries     2\n",
              "Pomegranate     2\n",
              "Papaya          2\n",
              "Mangoes         2\n",
              "Grapefruit      2\n",
              "Fruit           2\n",
              "Cherries        2\n",
              "Honeydew        1\n",
              "Kiwi            1\n",
              "Cantaloupe      1\n",
              "Nectarines      1\n",
              "Berries         1\n",
              "Figs            1\n",
              "Bananas         1\n",
              "Dates           1\n",
              "Cranberries     1\n",
              "Clementines     1\n",
              "Watermelon      1\n",
              "Name: fruit, dtype: int64"
            ]
          },
          "metadata": {},
          "execution_count": 75
        }
      ]
    },
    {
      "cell_type": "code",
      "source": [
        "sns.relplot(x=df['RetailPrice'],y=df['CupEquivalentSize'],hue=df['RetailPriceUnit'])"
      ],
      "metadata": {
        "colab": {
          "base_uri": "https://localhost:8080/",
          "height": 523
        },
        "id": "KeMwd-wfqKFj",
        "outputId": "885099ba-4fa0-4663-ec4f-30181891a935"
      },
      "execution_count": null,
      "outputs": [
        {
          "output_type": "execute_result",
          "data": {
            "text/plain": [
              "<seaborn.axisgrid.FacetGrid at 0x7db82084f490>"
            ]
          },
          "metadata": {},
          "execution_count": 76
        },
        {
          "output_type": "display_data",
          "data": {
            "text/plain": [
              "<Figure size 621.25x500 with 1 Axes>"
            ],
            "image/png": "[encoded data removed]"
          },
          "metadata": {}
        }
      ]
    },
    {
      "cell_type": "code",
      "source": [
        "sns.stripplot(x=df['Yield'],y=df[\"RetailPrice\"],hue=df['Form'])\n",
        "plt.xticks(rotation=90)"
      ],
      "metadata": {
        "colab": {
          "base_uri": "https://localhost:8080/",
          "height": 831
        },
        "id": "HM4ifg5iqbc8",
        "outputId": "1c82309b-1ee7-49dc-b87a-62674a2cee8a"
      },
      "execution_count": null,
      "outputs": [
        {
          "output_type": "execute_result",
          "data": {
            "text/plain": [
              "([0, 1, 2, 3, 4, 5, 6, 7, 8, 9, 10, 11, 12, 13, 14, 15, 16, 17, 18, 19],\n",
              " [Text(0, 0, '0.46'),\n",
              "  Text(1, 0, '0.49'),\n",
              "  Text(2, 0, '0.51'),\n",
              "  Text(3, 0, '0.52'),\n",
              "  Text(4, 0, '0.56'),\n",
              "  Text(5, 0, '0.62'),\n",
              "  Text(6, 0, '0.64'),\n",
              "  Text(7, 0, '0.65'),\n",
              "  Text(8, 0, '0.68'),\n",
              "  Text(9, 0, '0.71'),\n",
              "  Text(10, 0, '0.76'),\n",
              "  Text(11, 0, '0.77'),\n",
              "  Text(12, 0, '0.9'),\n",
              "  Text(13, 0, '0.91'),\n",
              "  Text(14, 0, '0.92'),\n",
              "  Text(15, 0, '0.93'),\n",
              "  Text(16, 0, '0.94'),\n",
              "  Text(17, 0, '0.95'),\n",
              "  Text(18, 0, '0.96'),\n",
              "  Text(19, 0, '1.0')])"
            ]
          },
          "metadata": {},
          "execution_count": 81
        },
        {
          "output_type": "display_data",
          "data": {
            "text/plain": [
              "<Figure size 640x480 with 1 Axes>"
            ],
            "image/png": "[encoded data removed]"
          },
          "metadata": {}
        }
      ]
    },
    {
      "cell_type": "code",
      "source": [
        "sns.barplot(x=df['Form'],hue=df[\"RetailPriceUnit\"],y=df['CupEquivalentSize'])"
      ],
      "metadata": {
        "colab": {
          "base_uri": "https://localhost:8080/",
          "height": 466
        },
        "id": "Ibxz-OWyrlG5",
        "outputId": "7564303d-7ceb-4e56-a058-b6756743f1ff"
      },
      "execution_count": null,
      "outputs": [
        {
          "output_type": "execute_result",
          "data": {
            "text/plain": [
              "<Axes: xlabel='Form', ylabel='CupEquivalentSize'>"
            ]
          },
          "metadata": {},
          "execution_count": 85
        },
        {
          "output_type": "display_data",
          "data": {
            "text/plain": [
              "<Figure size 640x480 with 1 Axes>"
            ],
            "image/png": "[encoded data removed]"
          },
          "metadata": {}
        }
      ]
    },
    {
      "cell_type": "code",
      "source": [
        "sns.violinplot(x=df['Form'],y=df['CupEquivalentPrice'],hue=df['CupEquivalentUnit'],split=False)"
      ],
      "metadata": {
        "colab": {
          "base_uri": "https://localhost:8080/",
          "height": 468
        },
        "id": "Yt5aRbuusuKH",
        "outputId": "f6254b3e-4433-492f-de0f-3cf2ae8a16ba"
      },
      "execution_count": null,
      "outputs": [
        {
          "output_type": "execute_result",
          "data": {
            "text/plain": [
              "<Axes: xlabel='Form', ylabel='CupEquivalentPrice'>"
            ]
          },
          "metadata": {},
          "execution_count": 89
        },
        {
          "output_type": "display_data",
          "data": {
            "text/plain": [
              "<Figure size 640x480 with 1 Axes>"
            ],
            "image/png": "[encoded data removed]"
          },
          "metadata": {}
        }
      ]
    },
    {
      "cell_type": "code",
      "source": [
        "sns.jointplot(x=df['CupEquivalentPrice'],y=df['CupEquivalentSize'],kind='hex').plot_joint(sns.kdeplot)"
      ],
      "metadata": {
        "colab": {
          "base_uri": "https://localhost:8080/",
          "height": 624
        },
        "id": "zjcGDCT7tc3W",
        "outputId": "559c2f91-0460-47be-acf6-12b4685a62de"
      },
      "execution_count": null,
      "outputs": [
        {
          "output_type": "execute_result",
          "data": {
            "text/plain": [
              "<seaborn.axisgrid.JointGrid at 0x7db81ad3e650>"
            ]
          },
          "metadata": {},
          "execution_count": 91
        },
        {
          "output_type": "display_data",
          "data": {
            "text/plain": [
              "<Figure size 600x600 with 3 Axes>"
            ],
            "image/png": "[encoded data removed]"
          },
          "metadata": {}
        }
      ]
    },
    {
      "cell_type": "code",
      "source": [],
      "metadata": {
        "id": "E4nj6SA3u0k8"
      },
      "execution_count": null,
      "outputs": []
    },
    {
      "cell_type": "code",
      "source": [
        "\n",
        "df"
      ],
      "metadata": {
        "colab": {
          "base_uri": "https://localhost:8080/",
          "height": 530
        },
        "id": "6ERlnBVKVkJ5",
        "outputId": "181d2b7f-3870-4826-c6b6-6233663c5853"
      },
      "execution_count": null,
      "outputs": [
        {
          "output_type": "execute_result",
          "data": {
            "text/plain": [
              "                         Fruit    Form  RetailPrice RetailPriceUnit  Yield  \\\n",
              "0                       Apples   Fresh       1.5193       per pound   0.90   \n",
              "1           Apples, applesauce  Canned       1.0660       per pound   1.00   \n",
              "2       Apples, ready-to-drink   Juice       0.7804        per pint   1.00   \n",
              "3   Apples, frozen concentrate   Juice       0.5853        per pint   1.00   \n",
              "4                     Apricots   Fresh       2.9665       per pound   0.93   \n",
              "..                         ...     ...          ...             ...    ...   \n",
              "57                 Raspberries   Fresh       6.6391       per pound   0.96   \n",
              "58                 Raspberries  Frozen       4.1877       per pound   1.00   \n",
              "59                Strawberries   Fresh       2.5800       per pound   0.94   \n",
              "60                Strawberries  Frozen       2.8189       per pound   1.00   \n",
              "61                  Watermelon   Fresh       0.3604       per pound   0.52   \n",
              "\n",
              "    CupEquivalentSize CupEquivalentUnit  CupEquivalentPrice         fruit  \n",
              "0              0.2425            pounds              0.4094        Apples  \n",
              "1              0.5401            pounds              0.5758        Apples  \n",
              "2              8.0000      fluid ounces              0.3902        Apples  \n",
              "3              8.0000      fluid ounces              0.2926        Apples  \n",
              "4              0.3638            pounds              1.1603      Apricots  \n",
              "..                ...               ...                 ...           ...  \n",
              "57             0.3197            pounds              2.2107   Raspberries  \n",
              "58             0.3307            pounds              1.3849   Raspberries  \n",
              "59             0.3197            pounds              0.8774  Strawberries  \n",
              "60             0.3307            pounds              0.9322  Strawberries  \n",
              "61             0.3307            pounds              0.2292    Watermelon  \n",
              "\n",
              "[62 rows x 9 columns]"
            ],
            "text/html": [
              "\n",
              "  <div id=\"df-ea9901bf-39bd-4b1d-ba7a-02a4c8665eaf\" class=\"colab-df-container\">\n",
              "    <div>\n",
              "<style scoped>\n",
              "    .dataframe tbody tr th:only-of-type {\n",
              "        vertical-align: middle;\n",
              "    }\n",
              "\n",
              "    .dataframe tbody tr th {\n",
              "        vertical-align: top;\n",
              "    }\n",
              "\n",
              "    .dataframe thead th {\n",
              "        text-align: right;\n",
              "    }\n",
              "</style>\n",
              "<table border=\"1\" class=\"dataframe\">\n",
              "  <thead>\n",
              "    <tr style=\"text-align: right;\">\n",
              "      <th></th>\n",
              "      <th>Fruit</th>\n",
              "      <th>Form</th>\n",
              "      <th>RetailPrice</th>\n",
              "      <th>RetailPriceUnit</th>\n",
              "      <th>Yield</th>\n",
              "      <th>CupEquivalentSize</th>\n",
              "      <th>CupEquivalentUnit</th>\n",
              "      <th>CupEquivalentPrice</th>\n",
              "      <th>fruit</th>\n",
              "    </tr>\n",
              "  </thead>\n",
              "  <tbody>\n",
              "    <tr>\n",
              "      <th>0</th>\n",
              "      <td>Apples</td>\n",
              "      <td>Fresh</td>\n",
              "      <td>1.5193</td>\n",
              "      <td>per pound</td>\n",
              "      <td>0.90</td>\n",
              "      <td>0.2425</td>\n",
              "      <td>pounds</td>\n",
              "      <td>0.4094</td>\n",
              "      <td>Apples</td>\n",
              "    </tr>\n",
              "    <tr>\n",
              "      <th>1</th>\n",
              "      <td>Apples, applesauce</td>\n",
              "      <td>Canned</td>\n",
              "      <td>1.0660</td>\n",
              "      <td>per pound</td>\n",
              "      <td>1.00</td>\n",
              "      <td>0.5401</td>\n",
              "      <td>pounds</td>\n",
              "      <td>0.5758</td>\n",
              "      <td>Apples</td>\n",
              "    </tr>\n",
              "    <tr>\n",
              "      <th>2</th>\n",
              "      <td>Apples, ready-to-drink</td>\n",
              "      <td>Juice</td>\n",
              "      <td>0.7804</td>\n",
              "      <td>per pint</td>\n",
              "      <td>1.00</td>\n",
              "      <td>8.0000</td>\n",
              "      <td>fluid ounces</td>\n",
              "      <td>0.3902</td>\n",
              "      <td>Apples</td>\n",
              "    </tr>\n",
              "    <tr>\n",
              "      <th>3</th>\n",
              "      <td>Apples, frozen concentrate</td>\n",
              "      <td>Juice</td>\n",
              "      <td>0.5853</td>\n",
              "      <td>per pint</td>\n",
              "      <td>1.00</td>\n",
              "      <td>8.0000</td>\n",
              "      <td>fluid ounces</td>\n",
              "      <td>0.2926</td>\n",
              "      <td>Apples</td>\n",
              "    </tr>\n",
              "    <tr>\n",
              "      <th>4</th>\n",
              "      <td>Apricots</td>\n",
              "      <td>Fresh</td>\n",
              "      <td>2.9665</td>\n",
              "      <td>per pound</td>\n",
              "      <td>0.93</td>\n",
              "      <td>0.3638</td>\n",
              "      <td>pounds</td>\n",
              "      <td>1.1603</td>\n",
              "      <td>Apricots</td>\n",
              "    </tr>\n",
              "    <tr>\n",
              "      <th>...</th>\n",
              "      <td>...</td>\n",
              "      <td>...</td>\n",
              "      <td>...</td>\n",
              "      <td>...</td>\n",
              "      <td>...</td>\n",
              "      <td>...</td>\n",
              "      <td>...</td>\n",
              "      <td>...</td>\n",
              "      <td>...</td>\n",
              "    </tr>\n",
              "    <tr>\n",
              "      <th>57</th>\n",
              "      <td>Raspberries</td>\n",
              "      <td>Fresh</td>\n",
              "      <td>6.6391</td>\n",
              "      <td>per pound</td>\n",
              "      <td>0.96</td>\n",
              "      <td>0.3197</td>\n",
              "      <td>pounds</td>\n",
              "      <td>2.2107</td>\n",
              "      <td>Raspberries</td>\n",
              "    </tr>\n",
              "    <tr>\n",
              "      <th>58</th>\n",
              "      <td>Raspberries</td>\n",
              "      <td>Frozen</td>\n",
              "      <td>4.1877</td>\n",
              "      <td>per pound</td>\n",
              "      <td>1.00</td>\n",
              "      <td>0.3307</td>\n",
              "      <td>pounds</td>\n",
              "      <td>1.3849</td>\n",
              "      <td>Raspberries</td>\n",
              "    </tr>\n",
              "    <tr>\n",
              "      <th>59</th>\n",
              "      <td>Strawberries</td>\n",
              "      <td>Fresh</td>\n",
              "      <td>2.5800</td>\n",
              "      <td>per pound</td>\n",
              "      <td>0.94</td>\n",
              "      <td>0.3197</td>\n",
              "      <td>pounds</td>\n",
              "      <td>0.8774</td>\n",
              "      <td>Strawberries</td>\n",
              "    </tr>\n",
              "    <tr>\n",
              "      <th>60</th>\n",
              "      <td>Strawberries</td>\n",
              "      <td>Frozen</td>\n",
              "      <td>2.8189</td>\n",
              "      <td>per pound</td>\n",
              "      <td>1.00</td>\n",
              "      <td>0.3307</td>\n",
              "      <td>pounds</td>\n",
              "      <td>0.9322</td>\n",
              "      <td>Strawberries</td>\n",
              "    </tr>\n",
              "    <tr>\n",
              "      <th>61</th>\n",
              "      <td>Watermelon</td>\n",
              "      <td>Fresh</td>\n",
              "      <td>0.3604</td>\n",
              "      <td>per pound</td>\n",
              "      <td>0.52</td>\n",
              "      <td>0.3307</td>\n",
              "      <td>pounds</td>\n",
              "      <td>0.2292</td>\n",
              "      <td>Watermelon</td>\n",
              "    </tr>\n",
              "  </tbody>\n",
              "</table>\n",
              "<p>62 rows × 9 columns</p>\n",
              "</div>\n",
              "    <div class=\"colab-df-buttons\">\n",
              "\n",
              "  <div class=\"colab-df-container\">\n",
              "    <button class=\"colab-df-convert\" onclick=\"convertToInteractive('df-ea9901bf-39bd-4b1d-ba7a-02a4c8665eaf')\"\n",
              "            title=\"Convert this dataframe to an interactive table.\"\n",
              "            style=\"display:none;\">\n",
              "\n",
              "  <svg xmlns=\"http://www.w3.org/2000/svg\" height=\"24px\" viewBox=\"0 -960 960 960\">\n",
              "    <path d=\"M120-120v-720h720v720H120Zm60-500h600v-160H180v160Zm220 220h160v-160H400v160Zm0 220h160v-160H400v160ZM180-400h160v-160H180v160Zm440 0h160v-160H620v160ZM180-180h160v-160H180v160Zm440 0h160v-160H620v160Z\"/>\n",
              "  </svg>\n",
              "    </button>\n",
              "\n",
              "  <style>\n",
              "    .colab-df-container {\n",
              "      display:flex;\n",
              "      gap: 12px;\n",
              "    }\n",
              "\n",
              "    .colab-df-convert {\n",
              "      background-color: #E8F0FE;\n",
              "      border: none;\n",
              "      border-radius: 50%;\n",
              "      cursor: pointer;\n",
              "      display: none;\n",
              "      fill: #1967D2;\n",
              "      height: 32px;\n",
              "      padding: 0 0 0 0;\n",
              "      width: 32px;\n",
              "    }\n",
              "\n",
              "    .colab-df-convert:hover {\n",
              "      background-color: #E2EBFA;\n",
              "      box-shadow: 0px 1px 2px rgba(60, 64, 67, 0.3), 0px 1px 3px 1px rgba(60, 64, 67, 0.15);\n",
              "      fill: #174EA6;\n",
              "    }\n",
              "\n",
              "    .colab-df-buttons div {\n",
              "      margin-bottom: 4px;\n",
              "    }\n",
              "\n",
              "    [theme=dark] .colab-df-convert {\n",
              "      background-color: #3B4455;\n",
              "      fill: #D2E3FC;\n",
              "    }\n",
              "\n",
              "    [theme=dark] .colab-df-convert:hover {\n",
              "      background-color: #434B5C;\n",
              "      box-shadow: 0px 1px 3px 1px rgba(0, 0, 0, 0.15);\n",
              "      filter: drop-shadow(0px 1px 2px rgba(0, 0, 0, 0.3));\n",
              "      fill: #FFFFFF;\n",
              "    }\n",
              "  </style>\n",
              "\n",
              "    <script>\n",
              "      const buttonEl =\n",
              "        document.querySelector('#df-ea9901bf-39bd-4b1d-ba7a-02a4c8665eaf button.colab-df-convert');\n",
              "      buttonEl.style.display =\n",
              "        google.colab.kernel.accessAllowed ? 'block' : 'none';\n",
              "\n",
              "      async function convertToInteractive(key) {\n",
              "        const element = document.querySelector('#df-ea9901bf-39bd-4b1d-ba7a-02a4c8665eaf');\n",
              "        const dataTable =\n",
              "          await google.colab.kernel.invokeFunction('convertToInteractive',\n",
              "                                                    [key], {});\n",
              "        if (!dataTable) return;\n",
              "\n",
              "        const docLinkHtml = 'Like what you see? Visit the ' +\n",
              "          '<a target=\"_blank\" href=https://colab.research.google.com/notebooks/data_table.ipynb>data table notebook</a>'\n",
              "          + ' to learn more about interactive tables.';\n",
              "        element.innerHTML = '';\n",
              "        dataTable['output_type'] = 'display_data';\n",
              "        await google.colab.output.renderOutput(dataTable, element);\n",
              "        const docLink = document.createElement('div');\n",
              "        docLink.innerHTML = docLinkHtml;\n",
              "        element.appendChild(docLink);\n",
              "      }\n",
              "    </script>\n",
              "  </div>\n",
              "\n",
              "\n",
              "<div id=\"df-111df56f-595d-4867-8a18-11fe5603598f\">\n",
              "  <button class=\"colab-df-quickchart\" onclick=\"quickchart('df-111df56f-595d-4867-8a18-11fe5603598f')\"\n",
              "            title=\"Suggest charts\"\n",
              "            style=\"display:none;\">\n",
              "\n",
              "<svg xmlns=\"http://www.w3.org/2000/svg\" height=\"24px\"viewBox=\"0 0 24 24\"\n",
              "     width=\"24px\">\n",
              "    <g>\n",
              "        <path d=\"M19 3H5c-1.1 0-2 .9-2 2v14c0 1.1.9 2 2 2h14c1.1 0 2-.9 2-2V5c0-1.1-.9-2-2-2zM9 17H7v-7h2v7zm4 0h-2V7h2v10zm4 0h-2v-4h2v4z\"/>\n",
              "    </g>\n",
              "</svg>\n",
              "  </button>\n",
              "\n",
              "<style>\n",
              "  .colab-df-quickchart {\n",
              "      --bg-color: #E8F0FE;\n",
              "      --fill-color: #1967D2;\n",
              "      --hover-bg-color: #E2EBFA;\n",
              "      --hover-fill-color: #174EA6;\n",
              "      --disabled-fill-color: #AAA;\n",
              "      --disabled-bg-color: #DDD;\n",
              "  }\n",
              "\n",
              "  [theme=dark] .colab-df-quickchart {\n",
              "      --bg-color: #3B4455;\n",
              "      --fill-color: #D2E3FC;\n",
              "      --hover-bg-color: #434B5C;\n",
              "      --hover-fill-color: #FFFFFF;\n",
              "      --disabled-bg-color: #3B4455;\n",
              "      --disabled-fill-color: #666;\n",
              "  }\n",
              "\n",
              "  .colab-df-quickchart {\n",
              "    background-color: var(--bg-color);\n",
              "    border: none;\n",
              "    border-radius: 50%;\n",
              "    cursor: pointer;\n",
              "    display: none;\n",
              "    fill: var(--fill-color);\n",
              "    height: 32px;\n",
              "    padding: 0;\n",
              "    width: 32px;\n",
              "  }\n",
              "\n",
              "  .colab-df-quickchart:hover {\n",
              "    background-color: var(--hover-bg-color);\n",
              "    box-shadow: 0 1px 2px rgba(60, 64, 67, 0.3), 0 1px 3px 1px rgba(60, 64, 67, 0.15);\n",
              "    fill: var(--button-hover-fill-color);\n",
              "  }\n",
              "\n",
              "  .colab-df-quickchart-complete:disabled,\n",
              "  .colab-df-quickchart-complete:disabled:hover {\n",
              "    background-color: var(--disabled-bg-color);\n",
              "    fill: var(--disabled-fill-color);\n",
              "    box-shadow: none;\n",
              "  }\n",
              "\n",
              "  .colab-df-spinner {\n",
              "    border: 2px solid var(--fill-color);\n",
              "    border-color: transparent;\n",
              "    border-bottom-color: var(--fill-color);\n",
              "    animation:\n",
              "      spin 1s steps(1) infinite;\n",
              "  }\n",
              "\n",
              "  @keyframes spin {\n",
              "    0% {\n",
              "      border-color: transparent;\n",
              "      border-bottom-color: var(--fill-color);\n",
              "      border-left-color: var(--fill-color);\n",
              "    }\n",
              "    20% {\n",
              "      border-color: transparent;\n",
              "      border-left-color: var(--fill-color);\n",
              "      border-top-color: var(--fill-color);\n",
              "    }\n",
              "    30% {\n",
              "      border-color: transparent;\n",
              "      border-left-color: var(--fill-color);\n",
              "      border-top-color: var(--fill-color);\n",
              "      border-right-color: var(--fill-color);\n",
              "    }\n",
              "    40% {\n",
              "      border-color: transparent;\n",
              "      border-right-color: var(--fill-color);\n",
              "      border-top-color: var(--fill-color);\n",
              "    }\n",
              "    60% {\n",
              "      border-color: transparent;\n",
              "      border-right-color: var(--fill-color);\n",
              "    }\n",
              "    80% {\n",
              "      border-color: transparent;\n",
              "      border-right-color: var(--fill-color);\n",
              "      border-bottom-color: var(--fill-color);\n",
              "    }\n",
              "    90% {\n",
              "      border-color: transparent;\n",
              "      border-bottom-color: var(--fill-color);\n",
              "    }\n",
              "  }\n",
              "</style>\n",
              "\n",
              "  <script>\n",
              "    async function quickchart(key) {\n",
              "      const quickchartButtonEl =\n",
              "        document.querySelector('#' + key + ' button');\n",
              "      quickchartButtonEl.disabled = true;  // To prevent multiple clicks.\n",
              "      quickchartButtonEl.classList.add('colab-df-spinner');\n",
              "      try {\n",
              "        const charts = await google.colab.kernel.invokeFunction(\n",
              "            'suggestCharts', [key], {});\n",
              "      } catch (error) {\n",
              "        console.error('Error during call to suggestCharts:', error);\n",
              "      }\n",
              "      quickchartButtonEl.classList.remove('colab-df-spinner');\n",
              "      quickchartButtonEl.classList.add('colab-df-quickchart-complete');\n",
              "    }\n",
              "    (() => {\n",
              "      let quickchartButtonEl =\n",
              "        document.querySelector('#df-111df56f-595d-4867-8a18-11fe5603598f button');\n",
              "      quickchartButtonEl.style.display =\n",
              "        google.colab.kernel.accessAllowed ? 'block' : 'none';\n",
              "    })();\n",
              "  </script>\n",
              "</div>\n",
              "\n",
              "  <div id=\"id_284ebbdb-7749-4097-ba33-2977c01ca6ec\">\n",
              "    <style>\n",
              "      .colab-df-generate {\n",
              "        background-color: #E8F0FE;\n",
              "        border: none;\n",
              "        border-radius: 50%;\n",
              "        cursor: pointer;\n",
              "        display: none;\n",
              "        fill: #1967D2;\n",
              "        height: 32px;\n",
              "        padding: 0 0 0 0;\n",
              "        width: 32px;\n",
              "      }\n",
              "\n",
              "      .colab-df-generate:hover {\n",
              "        background-color: #E2EBFA;\n",
              "        box-shadow: 0px 1px 2px rgba(60, 64, 67, 0.3), 0px 1px 3px 1px rgba(60, 64, 67, 0.15);\n",
              "        fill: #174EA6;\n",
              "      }\n",
              "\n",
              "      [theme=dark] .colab-df-generate {\n",
              "        background-color: #3B4455;\n",
              "        fill: #D2E3FC;\n",
              "      }\n",
              "\n",
              "      [theme=dark] .colab-df-generate:hover {\n",
              "        background-color: #434B5C;\n",
              "        box-shadow: 0px 1px 3px 1px rgba(0, 0, 0, 0.15);\n",
              "        filter: drop-shadow(0px 1px 2px rgba(0, 0, 0, 0.3));\n",
              "        fill: #FFFFFF;\n",
              "      }\n",
              "    </style>\n",
              "    <button class=\"colab-df-generate\" onclick=\"generateWithVariable('df')\"\n",
              "            title=\"Generate code using this dataframe.\"\n",
              "            style=\"display:none;\">\n",
              "\n",
              "  <svg xmlns=\"http://www.w3.org/2000/svg\" height=\"24px\"viewBox=\"0 0 24 24\"\n",
              "       width=\"24px\">\n",
              "    <path d=\"M7,19H8.4L18.45,9,17,7.55,7,17.6ZM5,21V16.75L18.45,3.32a2,2,0,0,1,2.83,0l1.4,1.43a1.91,1.91,0,0,1,.58,1.4,1.91,1.91,0,0,1-.58,1.4L9.25,21ZM18.45,9,17,7.55Zm-12,3A5.31,5.31,0,0,0,4.9,8.1,5.31,5.31,0,0,0,1,6.5,5.31,5.31,0,0,0,4.9,4.9,5.31,5.31,0,0,0,6.5,1,5.31,5.31,0,0,0,8.1,4.9,5.31,5.31,0,0,0,12,6.5,5.46,5.46,0,0,0,6.5,12Z\"/>\n",
              "  </svg>\n",
              "    </button>\n",
              "    <script>\n",
              "      (() => {\n",
              "      const buttonEl =\n",
              "        document.querySelector('#id_284ebbdb-7749-4097-ba33-2977c01ca6ec button.colab-df-generate');\n",
              "      buttonEl.style.display =\n",
              "        google.colab.kernel.accessAllowed ? 'block' : 'none';\n",
              "\n",
              "      buttonEl.onclick = () => {\n",
              "        google.colab.notebook.generateWithVariable('df');\n",
              "      }\n",
              "      })();\n",
              "    </script>\n",
              "  </div>\n",
              "\n",
              "    </div>\n",
              "  </div>\n"
            ]
          },
          "metadata": {},
          "execution_count": 35
        }
      ]
    }
  ]
}